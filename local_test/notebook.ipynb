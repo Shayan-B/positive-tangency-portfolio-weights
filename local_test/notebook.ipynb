{
 "cells": [
  {
   "cell_type": "code",
   "execution_count": 6,
   "metadata": {},
   "outputs": [],
   "source": [
    "import tangency as tgc"
   ]
  },
  {
   "cell_type": "code",
   "execution_count": 7,
   "metadata": {},
   "outputs": [],
   "source": [
    "stocks = [\"a\", \"b\", \"c\"]\n",
    "prior_weights = [1/3, 1/3, 1/3]"
   ]
  },
  {
   "cell_type": "code",
   "execution_count": 9,
   "metadata": {},
   "outputs": [
    {
     "name": "stderr",
     "output_type": "stream",
     "text": [
      "Auto-assigning NUTS sampler...\n",
      "INFO:pymc.sampling.mcmc:Auto-assigning NUTS sampler...\n",
      "Initializing NUTS using jitter+adapt_diag...\n",
      "INFO:pymc.sampling.mcmc:Initializing NUTS using jitter+adapt_diag...\n",
      "Multiprocess sampling (2 chains in 4 jobs)\n",
      "INFO:pymc.sampling.mcmc:Multiprocess sampling (2 chains in 4 jobs)\n",
      "NUTS: [packed_L, log_nu]\n",
      "INFO:pymc.sampling.mcmc:NUTS: [packed_L, log_nu]\n"
     ]
    },
    {
     "ename": "TypeError",
     "evalue": "cannot pickle 'fortran' object",
     "output_type": "error",
     "traceback": [
      "\u001b[1;31m---------------------------------------------------------------------------\u001b[0m",
      "\u001b[1;31mTypeError\u001b[0m                                 Traceback (most recent call last)",
      "Cell \u001b[1;32mIn[9], line 1\u001b[0m\n\u001b[1;32m----> 1\u001b[0m tgc\u001b[38;5;241m.\u001b[39mcalculate_tangency_portfolio(\n\u001b[0;32m      2\u001b[0m     sotck_names\u001b[38;5;241m=\u001b[39mstocks,\n\u001b[0;32m      3\u001b[0m     prior_weights\u001b[38;5;241m=\u001b[39mprior_weights,\n\u001b[0;32m      4\u001b[0m     risk_aversion\u001b[38;5;241m=\u001b[39m\u001b[38;5;241m10\u001b[39m,\n\u001b[0;32m      5\u001b[0m     observed_data\u001b[38;5;241m=\u001b[39m[\u001b[38;5;241m0.001\u001b[39m, \u001b[38;5;241m0.004\u001b[39m, \u001b[38;5;241m0.0011\u001b[39m]\n\u001b[0;32m      6\u001b[0m )\n",
      "File \u001b[1;32md:\\Documents-C\\GitHub\\positive-tangency-portfolio-weights\\local_test\\tangency.py:78\u001b[0m, in \u001b[0;36mcalculate_tangency_portfolio\u001b[1;34m(sotck_names, prior_weights, risk_aversion, observed_data)\u001b[0m\n\u001b[0;32m     75\u001b[0m     likelihood \u001b[38;5;241m=\u001b[39m pm\u001b[38;5;241m.\u001b[39mMvNormal(\u001b[38;5;124m\"\u001b[39m\u001b[38;5;124mobs\u001b[39m\u001b[38;5;124m\"\u001b[39m, mu\u001b[38;5;241m=\u001b[39mmu, cov\u001b[38;5;241m=\u001b[39mSigma, observed\u001b[38;5;241m=\u001b[39mobserved_data)\n\u001b[0;32m     77\u001b[0m     \u001b[38;5;66;03m# Sample\u001b[39;00m\n\u001b[1;32m---> 78\u001b[0m     trace \u001b[38;5;241m=\u001b[39m pm\u001b[38;5;241m.\u001b[39msample(\u001b[38;5;241m1000\u001b[39m, tune\u001b[38;5;241m=\u001b[39m\u001b[38;5;241m1000\u001b[39m, chains\u001b[38;5;241m=\u001b[39m\u001b[38;5;241m2\u001b[39m, target_accept\u001b[38;5;241m=\u001b[39m\u001b[38;5;241m0.9\u001b[39m)\n\u001b[0;32m     80\u001b[0m \u001b[38;5;66;03m# Posterior mean of nu\u001b[39;00m\n\u001b[0;32m     81\u001b[0m \u001b[38;5;66;03m# This is used to construct the portfolio weights\u001b[39;00m\n\u001b[0;32m     82\u001b[0m posterior_mean_nu \u001b[38;5;241m=\u001b[39m np\u001b[38;5;241m.\u001b[39mexp(\n\u001b[0;32m     83\u001b[0m     trace\u001b[38;5;241m.\u001b[39mposterior[\u001b[38;5;124m\"\u001b[39m\u001b[38;5;124mlog_nu\u001b[39m\u001b[38;5;124m\"\u001b[39m]\u001b[38;5;241m.\u001b[39mmean(dim\u001b[38;5;241m=\u001b[39m(\u001b[38;5;124m\"\u001b[39m\u001b[38;5;124mchain\u001b[39m\u001b[38;5;124m\"\u001b[39m, \u001b[38;5;124m\"\u001b[39m\u001b[38;5;124mdraw\u001b[39m\u001b[38;5;124m\"\u001b[39m))\u001b[38;5;241m.\u001b[39mvalues\n\u001b[0;32m     84\u001b[0m )\n",
      "File \u001b[1;32mc:\\Users\\Shayan\\anaconda3\\envs\\PaperEnv\\Lib\\site-packages\\pymc\\sampling\\mcmc.py:802\u001b[0m, in \u001b[0;36msample\u001b[1;34m(draws, tune, chains, cores, random_seed, progressbar, step, nuts_sampler, initvals, init, jitter_max_retries, n_init, trace, discard_tuned_samples, compute_convergence_checks, keep_warning_stat, return_inferencedata, idata_kwargs, nuts_sampler_kwargs, callback, mp_ctx, model, **kwargs)\u001b[0m\n\u001b[0;32m    800\u001b[0m _print_step_hierarchy(step)\n\u001b[0;32m    801\u001b[0m \u001b[38;5;28;01mtry\u001b[39;00m:\n\u001b[1;32m--> 802\u001b[0m     _mp_sample(\u001b[38;5;241m*\u001b[39m\u001b[38;5;241m*\u001b[39msample_args, \u001b[38;5;241m*\u001b[39m\u001b[38;5;241m*\u001b[39mparallel_args)\n\u001b[0;32m    803\u001b[0m \u001b[38;5;28;01mexcept\u001b[39;00m pickle\u001b[38;5;241m.\u001b[39mPickleError:\n\u001b[0;32m    804\u001b[0m     _log\u001b[38;5;241m.\u001b[39mwarning(\u001b[38;5;124m\"\u001b[39m\u001b[38;5;124mCould not pickle model, sampling singlethreaded.\u001b[39m\u001b[38;5;124m\"\u001b[39m)\n",
      "File \u001b[1;32mc:\\Users\\Shayan\\anaconda3\\envs\\PaperEnv\\Lib\\site-packages\\pymc\\sampling\\mcmc.py:1177\u001b[0m, in \u001b[0;36m_mp_sample\u001b[1;34m(draws, tune, step, chains, cores, random_seed, start, progressbar, traces, model, callback, mp_ctx, **kwargs)\u001b[0m\n\u001b[0;32m   1174\u001b[0m \u001b[38;5;66;03m# We did draws += tune in pm.sample\u001b[39;00m\n\u001b[0;32m   1175\u001b[0m draws \u001b[38;5;241m-\u001b[39m\u001b[38;5;241m=\u001b[39m tune\n\u001b[1;32m-> 1177\u001b[0m sampler \u001b[38;5;241m=\u001b[39m ps\u001b[38;5;241m.\u001b[39mParallelSampler(\n\u001b[0;32m   1178\u001b[0m     draws\u001b[38;5;241m=\u001b[39mdraws,\n\u001b[0;32m   1179\u001b[0m     tune\u001b[38;5;241m=\u001b[39mtune,\n\u001b[0;32m   1180\u001b[0m     chains\u001b[38;5;241m=\u001b[39mchains,\n\u001b[0;32m   1181\u001b[0m     cores\u001b[38;5;241m=\u001b[39mcores,\n\u001b[0;32m   1182\u001b[0m     seeds\u001b[38;5;241m=\u001b[39mrandom_seed,\n\u001b[0;32m   1183\u001b[0m     start_points\u001b[38;5;241m=\u001b[39mstart,\n\u001b[0;32m   1184\u001b[0m     step_method\u001b[38;5;241m=\u001b[39mstep,\n\u001b[0;32m   1185\u001b[0m     progressbar\u001b[38;5;241m=\u001b[39mprogressbar,\n\u001b[0;32m   1186\u001b[0m     mp_ctx\u001b[38;5;241m=\u001b[39mmp_ctx,\n\u001b[0;32m   1187\u001b[0m )\n\u001b[0;32m   1188\u001b[0m \u001b[38;5;28;01mtry\u001b[39;00m:\n\u001b[0;32m   1189\u001b[0m     \u001b[38;5;28;01mtry\u001b[39;00m:\n",
      "File \u001b[1;32mc:\\Users\\Shayan\\anaconda3\\envs\\PaperEnv\\Lib\\site-packages\\pymc\\sampling\\parallel.py:400\u001b[0m, in \u001b[0;36mParallelSampler.__init__\u001b[1;34m(self, draws, tune, chains, cores, seeds, start_points, step_method, progressbar, mp_ctx)\u001b[0m\n\u001b[0;32m    398\u001b[0m step_method_pickled \u001b[38;5;241m=\u001b[39m \u001b[38;5;28;01mNone\u001b[39;00m\n\u001b[0;32m    399\u001b[0m \u001b[38;5;28;01mif\u001b[39;00m mp_ctx\u001b[38;5;241m.\u001b[39mget_start_method() \u001b[38;5;241m!=\u001b[39m \u001b[38;5;124m\"\u001b[39m\u001b[38;5;124mfork\u001b[39m\u001b[38;5;124m\"\u001b[39m:\n\u001b[1;32m--> 400\u001b[0m     step_method_pickled \u001b[38;5;241m=\u001b[39m cloudpickle\u001b[38;5;241m.\u001b[39mdumps(step_method, protocol\u001b[38;5;241m=\u001b[39m\u001b[38;5;241m-\u001b[39m\u001b[38;5;241m1\u001b[39m)\n\u001b[0;32m    402\u001b[0m \u001b[38;5;28mself\u001b[39m\u001b[38;5;241m.\u001b[39m_samplers \u001b[38;5;241m=\u001b[39m [\n\u001b[0;32m    403\u001b[0m     ProcessAdapter(\n\u001b[0;32m    404\u001b[0m         draws,\n\u001b[1;32m   (...)\u001b[0m\n\u001b[0;32m    413\u001b[0m     \u001b[38;5;28;01mfor\u001b[39;00m chain, seed, start \u001b[38;5;129;01min\u001b[39;00m \u001b[38;5;28mzip\u001b[39m(\u001b[38;5;28mrange\u001b[39m(chains), seeds, start_points)\n\u001b[0;32m    414\u001b[0m ]\n\u001b[0;32m    416\u001b[0m \u001b[38;5;28mself\u001b[39m\u001b[38;5;241m.\u001b[39m_inactive \u001b[38;5;241m=\u001b[39m \u001b[38;5;28mself\u001b[39m\u001b[38;5;241m.\u001b[39m_samplers\u001b[38;5;241m.\u001b[39mcopy()\n",
      "File \u001b[1;32mc:\\Users\\Shayan\\anaconda3\\envs\\PaperEnv\\Lib\\site-packages\\cloudpickle\\cloudpickle.py:1479\u001b[0m, in \u001b[0;36mdumps\u001b[1;34m(obj, protocol, buffer_callback)\u001b[0m\n\u001b[0;32m   1477\u001b[0m \u001b[38;5;28;01mwith\u001b[39;00m io\u001b[38;5;241m.\u001b[39mBytesIO() \u001b[38;5;28;01mas\u001b[39;00m file:\n\u001b[0;32m   1478\u001b[0m     cp \u001b[38;5;241m=\u001b[39m Pickler(file, protocol\u001b[38;5;241m=\u001b[39mprotocol, buffer_callback\u001b[38;5;241m=\u001b[39mbuffer_callback)\n\u001b[1;32m-> 1479\u001b[0m     cp\u001b[38;5;241m.\u001b[39mdump(obj)\n\u001b[0;32m   1480\u001b[0m     \u001b[38;5;28;01mreturn\u001b[39;00m file\u001b[38;5;241m.\u001b[39mgetvalue()\n",
      "File \u001b[1;32mc:\\Users\\Shayan\\anaconda3\\envs\\PaperEnv\\Lib\\site-packages\\cloudpickle\\cloudpickle.py:1245\u001b[0m, in \u001b[0;36mPickler.dump\u001b[1;34m(self, obj)\u001b[0m\n\u001b[0;32m   1243\u001b[0m \u001b[38;5;28;01mdef\u001b[39;00m \u001b[38;5;21mdump\u001b[39m(\u001b[38;5;28mself\u001b[39m, obj):\n\u001b[0;32m   1244\u001b[0m     \u001b[38;5;28;01mtry\u001b[39;00m:\n\u001b[1;32m-> 1245\u001b[0m         \u001b[38;5;28;01mreturn\u001b[39;00m \u001b[38;5;28msuper\u001b[39m()\u001b[38;5;241m.\u001b[39mdump(obj)\n\u001b[0;32m   1246\u001b[0m     \u001b[38;5;28;01mexcept\u001b[39;00m \u001b[38;5;167;01mRuntimeError\u001b[39;00m \u001b[38;5;28;01mas\u001b[39;00m e:\n\u001b[0;32m   1247\u001b[0m         \u001b[38;5;28;01mif\u001b[39;00m \u001b[38;5;28mlen\u001b[39m(e\u001b[38;5;241m.\u001b[39margs) \u001b[38;5;241m>\u001b[39m \u001b[38;5;241m0\u001b[39m \u001b[38;5;129;01mand\u001b[39;00m \u001b[38;5;124m\"\u001b[39m\u001b[38;5;124mrecursion\u001b[39m\u001b[38;5;124m\"\u001b[39m \u001b[38;5;129;01min\u001b[39;00m e\u001b[38;5;241m.\u001b[39margs[\u001b[38;5;241m0\u001b[39m]:\n",
      "\u001b[1;31mTypeError\u001b[0m: cannot pickle 'fortran' object"
     ]
    }
   ],
   "source": [
    "tgc.calculate_tangency_portfolio(\n",
    "    sotck_names=stocks,\n",
    "    prior_weights=prior_weights,\n",
    "    risk_aversion=10,\n",
    "    observed_data=[0.001, 0.004, 0.0011]\n",
    ")"
   ]
  },
  {
   "cell_type": "code",
   "execution_count": null,
   "metadata": {},
   "outputs": [],
   "source": []
  }
 ],
 "metadata": {
  "kernelspec": {
   "display_name": "PaperEnv",
   "language": "python",
   "name": "python3"
  },
  "language_info": {
   "codemirror_mode": {
    "name": "ipython",
    "version": 3
   },
   "file_extension": ".py",
   "mimetype": "text/x-python",
   "name": "python",
   "nbconvert_exporter": "python",
   "pygments_lexer": "ipython3",
   "version": "3.11.4"
  }
 },
 "nbformat": 4,
 "nbformat_minor": 2
}
